{
 "metadata": {
  "name": "",
  "signature": "sha256:7bfe95eee9ce14e0436abccf4bb521a80214e01bca297c580b418c8504a553aa"
 },
 "nbformat": 3,
 "nbformat_minor": 0,
 "worksheets": []
}